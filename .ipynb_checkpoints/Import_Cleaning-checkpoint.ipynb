{
 "cells": [
  {
   "cell_type": "markdown",
   "id": "3174062f-bc88-44be-a761-38d25cfdb939",
   "metadata": {
    "jp-MarkdownHeadingCollapsed": true
   },
   "source": [
    "# Import and Initialize"
   ]
  },
  {
   "cell_type": "code",
   "execution_count": 625,
   "id": "893cbb8a-f1ee-4a95-947d-92b5ba6c2edb",
   "metadata": {},
   "outputs": [],
   "source": [
    "import pandas as pd\n",
    "import warnings\n",
    "warnings.simplefilter(action='ignore', category=FutureWarning)\n",
    "pd.set_option('display.max_columns', None)\n",
    "import numpy as np\n",
    "import seaborn as sns\n",
    "from fuzzywuzzy import fuzz\n",
    "from fuzzywuzzy import process\n",
    "from openpyxl import load_workbook\n",
    "\n",
    "file_path = '/Users/haydnjones/Documents/GitHub/flight-crashes/Plane Crashes.csv'\n",
    "\n",
    "df = pd.read_csv(file_path)\n",
    "df = pd.DataFrame(df)"
   ]
  },
  {
   "cell_type": "markdown",
   "id": "38832d60-57ec-499e-8375-9d19b0dbf04f",
   "metadata": {
    "jp-MarkdownHeadingCollapsed": true
   },
   "source": [
    "# Cleaning"
   ]
  },
  {
   "cell_type": "code",
   "execution_count": 628,
   "id": "7840e531-6363-4384-adc7-716939836575",
   "metadata": {},
   "outputs": [],
   "source": [
    "df = df.applymap(lambda x: x.lower() if isinstance(x, str) else x)\n",
    "df.columns = pd.Series(df.columns).apply(lambda col: col.lower())\n",
    "df.dropna(how='all', inplace= True)\n",
    "df.fillna(\"unknown\", inplace = True)\n",
    "df.columns = df.columns.str.replace(' ', '_')\n",
    "\n",
    "df['crew_on_board'] = df['crew_on_board'].replace('unknown', '0.0')\n",
    "df['crew_on_board'] = pd.to_numeric(df['crew_on_board'], errors='coerce')\n",
    "\n",
    "df['pax_on_board'] = df['pax_on_board'].replace('unknown', '0.0')\n",
    "df['pax_on_board'] = pd.to_numeric(df['pax_on_board'], errors='coerce')\n",
    "\n",
    "df['crew_fatalities'] = df['crew_fatalities'].replace('unknown', '0.0')\n",
    "df['crew_fatalities'] = pd.to_numeric(df['crew_fatalities'], errors='coerce')\n",
    "\n",
    "df['pax_fatalities'] = df['pax_fatalities'].replace('unknown', '0.0')\n",
    "df['pax_fatalities'] = pd.to_numeric(df['pax_fatalities'], errors='coerce')\n",
    "\n",
    "df['other_fatalities'] = df['other_fatalities'].replace('unknown', '0.0')\n",
    "df['other_fatalities'] = pd.to_numeric(df['other_fatalities'], errors='coerce')\n",
    "\n",
    "df['total_on_board'] = df['crew_on_board'] + df['pax_on_board']\n",
    "df['total_fatalities'] = df['crew_fatalities'] + df['pax_fatalities'] + df['other_fatalities']\n",
    "\n",
    "df_cleaned = df.drop(['crew_on_board', 'crew_fatalities', 'pax_on_board', 'pax_fatalities', 'other_fatalities', 'yom', 'msn', 'flight_no.'], axis=1)\n",
    "\n",
    "order = [\n",
    "    \"date\", \"time\", \"aircraft\", \"operator\", \"flight_phase\",\n",
    "    \"flight_type\", \"crash_site\", \"schedule\", \"crash_location\",\n",
    "    \"country\", \"region\", \"circumstances\", \"crash_cause\",\n",
    "    \"total_on_board\", \"total_fatalities\", \"survivors\"\n",
    "]\n",
    "\n",
    "df_cleaned = df_cleaned[order]"
   ]
  },
  {
   "cell_type": "code",
   "execution_count": 630,
   "id": "3a2f1c0a-5007-4cf8-852a-aeafdc2bb33a",
   "metadata": {},
   "outputs": [],
   "source": [
    "passenger_types = [\n",
    "    \"scheduled revenue flight\",\n",
    "    \"charter/taxi (non scheduled revenue flight)\",\n",
    "    \"private\",\n",
    "    \"executive/corporate/business\",\n",
    "    \"ferry\"\n",
    "    \"cargo\",\n",
    "    \"positioning\",\n",
    "    \"ambulance\",\n",
    "    \"topographic\",\n",
    "    \"geographical / geophysical / scientific\",\n",
    "    \"illegal (smuggling)\",\n",
    "    \"spraying (agricultural)\",\n",
    "    \"humanitarian\",\n",
    "    \"meteorological / weather\",\n",
    "    \"fire fighting\"\n",
    "]\n",
    "\n",
    "df_cleaned['flight_type'] = df_cleaned['flight_type'].apply(lambda x: 'passenger flights' if x in passenger_types else None)\n",
    "\n",
    "df_cleaned = df_cleaned.dropna(subset=['flight_type']) "
   ]
  },
  {
   "cell_type": "code",
   "execution_count": 632,
   "id": "ad956fc5-e0cb-4774-9dd4-61f1fe320762",
   "metadata": {},
   "outputs": [],
   "source": [
    "threshold_year = 1950\n",
    "\n",
    "df_cleaned['date'] = pd.to_datetime(df_cleaned['date'])\n",
    "df_cleaned = df_cleaned[df_cleaned['date'].dt.year >= threshold_year]"
   ]
  }
 ],
 "metadata": {
  "kernelspec": {
   "display_name": "Python [conda env:base] *",
   "language": "python",
   "name": "conda-base-py"
  },
  "language_info": {
   "codemirror_mode": {
    "name": "ipython",
    "version": 3
   },
   "file_extension": ".py",
   "mimetype": "text/x-python",
   "name": "python",
   "nbconvert_exporter": "python",
   "pygments_lexer": "ipython3",
   "version": "3.12.7"
  }
 },
 "nbformat": 4,
 "nbformat_minor": 5
}
