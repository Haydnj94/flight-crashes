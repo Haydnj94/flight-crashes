{
 "cells": [
  {
   "cell_type": "markdown",
   "id": "3174062f-bc88-44be-a761-38d25cfdb939",
   "metadata": {},
   "source": [
    "# Import and Initialize"
   ]
  },
  {
   "cell_type": "code",
   "execution_count": 288,
   "id": "893cbb8a-f1ee-4a95-947d-92b5ba6c2edb",
   "metadata": {},
   "outputs": [],
   "source": [
    "import pandas as pd\n",
    "import warnings\n",
    "warnings.simplefilter(action='ignore', category=FutureWarning)\n",
    "pd.set_option('display.max_columns', None)\n",
    "import numpy as np\n",
    "import seaborn as sns\n",
    "from fuzzywuzzy import fuzz\n",
    "\n",
    "file_path = '/Users/haydnjones/Documents/GitHub/flight-crashes/Plane Crashes.csv'\n",
    "\n",
    "df = pd.read_csv(file_path)\n",
    "df = pd.DataFrame(df)"
   ]
  },
  {
   "cell_type": "markdown",
   "id": "38832d60-57ec-499e-8375-9d19b0dbf04f",
   "metadata": {},
   "source": [
    "# Cleaning"
   ]
  },
  {
   "cell_type": "code",
   "execution_count": 291,
   "id": "7840e531-6363-4384-adc7-716939836575",
   "metadata": {},
   "outputs": [],
   "source": [
    "df = df.applymap(lambda x: x.lower() if isinstance(x, str) else x)\n",
    "df.columns = pd.Series(df.columns).apply(lambda col: col.lower())\n",
    "df = df.dropna(how='all')\n",
    "df_2 = df.fillna(\"unknown\")\n",
    "df_2.columns = df.columns.str.replace(' ', '_')"
   ]
  },
  {
   "cell_type": "code",
   "execution_count": 293,
   "id": "940b3e75-9e68-420a-aa7e-0494b032d292",
   "metadata": {},
   "outputs": [],
   "source": [
    "def rename_to_bird_strike(value):\n",
    "    if isinstance(value, str) and fuzz.partial_ratio('bird', value.lower()) > 80:\n",
    "        return 'bird strike'\n",
    "    return value\n",
    "\n",
    "df_2['crash_cause'] = df_2['crash_cause'].apply(rename_to_bird_strike)"
   ]
  },
  {
   "cell_type": "code",
   "execution_count": 294,
   "id": "f70d26a8-f108-4483-898d-945e502b4dac",
   "metadata": {},
   "outputs": [
    {
     "data": {
      "text/plain": [
       "(0, 24)"
      ]
     },
     "execution_count": 294,
     "metadata": {},
     "output_type": "execute_result"
    }
   ],
   "source": [
    "filtered_df = df_2[df_2['crash_cause'] == 'bird strike']\n",
    "\n",
    "filtered_df.shape"
   ]
  },
  {
   "cell_type": "code",
   "execution_count": 297,
   "id": "abe5ed69-c307-4bd5-81f2-839fc4a05ead",
   "metadata": {},
   "outputs": [
    {
     "data": {
      "text/html": [
       "<div>\n",
       "<style scoped>\n",
       "    .dataframe tbody tr th:only-of-type {\n",
       "        vertical-align: middle;\n",
       "    }\n",
       "\n",
       "    .dataframe tbody tr th {\n",
       "        vertical-align: top;\n",
       "    }\n",
       "\n",
       "    .dataframe thead th {\n",
       "        text-align: right;\n",
       "    }\n",
       "</style>\n",
       "<table border=\"1\" class=\"dataframe\">\n",
       "  <thead>\n",
       "    <tr style=\"text-align: right;\">\n",
       "      <th></th>\n",
       "      <th>date</th>\n",
       "      <th>time</th>\n",
       "      <th>aircraft</th>\n",
       "      <th>operator</th>\n",
       "      <th>registration</th>\n",
       "      <th>flight_phase</th>\n",
       "      <th>flight_type</th>\n",
       "      <th>survivors</th>\n",
       "      <th>crash_site</th>\n",
       "      <th>schedule</th>\n",
       "      <th>msn</th>\n",
       "      <th>yom</th>\n",
       "      <th>flight_no.</th>\n",
       "      <th>crash_location</th>\n",
       "      <th>country</th>\n",
       "      <th>region</th>\n",
       "      <th>crew_on_board</th>\n",
       "      <th>crew_fatalities</th>\n",
       "      <th>pax_on_board</th>\n",
       "      <th>pax_fatalities</th>\n",
       "      <th>other_fatalities</th>\n",
       "      <th>total_fatalities</th>\n",
       "      <th>circumstances</th>\n",
       "      <th>crash_cause</th>\n",
       "    </tr>\n",
       "  </thead>\n",
       "  <tbody>\n",
       "  </tbody>\n",
       "</table>\n",
       "</div>"
      ],
      "text/plain": [
       "Empty DataFrame\n",
       "Columns: [date, time, aircraft, operator, registration, flight_phase, flight_type, survivors, crash_site, schedule, msn, yom, flight_no., crash_location, country, region, crew_on_board, crew_fatalities, pax_on_board, pax_fatalities, other_fatalities, total_fatalities, circumstances, crash_cause]\n",
       "Index: []"
      ]
     },
     "execution_count": 297,
     "metadata": {},
     "output_type": "execute_result"
    }
   ],
   "source": [
    "filtered_df"
   ]
  },
  {
   "cell_type": "code",
   "execution_count": null,
   "id": "7a84a8b0-9c09-4b7b-8d7d-60dbde7db5ef",
   "metadata": {},
   "outputs": [],
   "source": []
  }
 ],
 "metadata": {
  "kernelspec": {
   "display_name": "Python [conda env:base] *",
   "language": "python",
   "name": "conda-base-py"
  },
  "language_info": {
   "codemirror_mode": {
    "name": "ipython",
    "version": 3
   },
   "file_extension": ".py",
   "mimetype": "text/x-python",
   "name": "python",
   "nbconvert_exporter": "python",
   "pygments_lexer": "ipython3",
   "version": "3.12.7"
  }
 },
 "nbformat": 4,
 "nbformat_minor": 5
}
